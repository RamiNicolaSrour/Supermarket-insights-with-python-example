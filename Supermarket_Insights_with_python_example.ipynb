{
  "cells": [
    {
      "cell_type": "markdown",
      "metadata": {
        "id": "AirYCaeIs8lD"
      },
      "source": [
        "A supermarket chain wants to get business insights from a dataset, the dataset contain the invoice details of the type of product that was bought by each customer, and from which branch, the rating that each customer gave to their overall experience, tax, cost of the goods sold, and the profit and other data."
      ]
    },
    {
      "cell_type": "code",
      "execution_count": 6,
      "metadata": {
        "id": "WQjiPpDhpJbL"
      },
      "outputs": [],
      "source": [
        "#importing pandas\n",
        "import pandas as pd"
      ]
    },
    {
      "cell_type": "code",
      "execution_count": 7,
      "metadata": {
        "id": "2dWs_XZiowgK",
        "colab": {
          "base_uri": "https://localhost:8080/",
          "height": 696
        },
        "outputId": "e4ce30fe-fdfb-419b-d8ef-71b7d393adea"
      },
      "outputs": [
        {
          "output_type": "execute_result",
          "data": {
            "text/plain": [
              "      Invoice ID Branch       City Customer type  Gender  \\\n",
              "0    750-67-8428      A     Yangon        Member  Female   \n",
              "1    226-31-3081      C  Naypyitaw        Normal  Female   \n",
              "2    631-41-3108      A     Yangon        Normal    Male   \n",
              "3    123-19-1176      A     Yangon        Member    Male   \n",
              "4    373-73-7910      A     Yangon        Normal    Male   \n",
              "..           ...    ...        ...           ...     ...   \n",
              "995  233-67-5758      C  Naypyitaw        Normal    Male   \n",
              "996  303-96-2227      B   Mandalay        Normal  Female   \n",
              "997  727-02-1313      A     Yangon        Member    Male   \n",
              "998  347-56-2442      A     Yangon        Normal    Male   \n",
              "999  849-09-3807      A     Yangon        Member  Female   \n",
              "\n",
              "               Product line  Unit price  Quantity   Tax 5%      Total  \\\n",
              "0         Health and beauty       74.69         7  26.1415   548.9715   \n",
              "1    Electronic accessories       15.28         5   3.8200    80.2200   \n",
              "2        Home and lifestyle       46.33         7  16.2155   340.5255   \n",
              "3         Health and beauty       58.22         8  23.2880   489.0480   \n",
              "4         Sports and travel       86.31         7  30.2085   634.3785   \n",
              "..                      ...         ...       ...      ...        ...   \n",
              "995       Health and beauty       40.35         1   2.0175    42.3675   \n",
              "996      Home and lifestyle       97.38        10  48.6900  1022.4900   \n",
              "997      Food and beverages       31.84         1   1.5920    33.4320   \n",
              "998      Home and lifestyle       65.82         1   3.2910    69.1110   \n",
              "999     Fashion accessories       88.34         7  30.9190   649.2990   \n",
              "\n",
              "          Date   Time      Payment    cogs  gross margin percentage  \\\n",
              "0     1/5/2019  13:08      Ewallet  522.83                 4.761905   \n",
              "1     3/8/2019  10:29         Cash   76.40                 4.761905   \n",
              "2     3/3/2019  13:23  Credit card  324.31                 4.761905   \n",
              "3    1/27/2019  20:33      Ewallet  465.76                 4.761905   \n",
              "4     2/8/2019  10:37      Ewallet  604.17                 4.761905   \n",
              "..         ...    ...          ...     ...                      ...   \n",
              "995  1/29/2019  13:46      Ewallet   40.35                 4.761905   \n",
              "996   3/2/2019  17:16      Ewallet  973.80                 4.761905   \n",
              "997   2/9/2019  13:22         Cash   31.84                 4.761905   \n",
              "998  2/22/2019  15:33         Cash   65.82                 4.761905   \n",
              "999  2/18/2019  13:28         Cash  618.38                 4.761905   \n",
              "\n",
              "     gross income  Rating  \n",
              "0         26.1415     9.1  \n",
              "1          3.8200     9.6  \n",
              "2         16.2155     7.4  \n",
              "3         23.2880     8.4  \n",
              "4         30.2085     5.3  \n",
              "..            ...     ...  \n",
              "995        2.0175     6.2  \n",
              "996       48.6900     4.4  \n",
              "997        1.5920     7.7  \n",
              "998        3.2910     4.1  \n",
              "999       30.9190     6.6  \n",
              "\n",
              "[1000 rows x 17 columns]"
            ],
            "text/html": [
              "\n",
              "  <div id=\"df-4242fa3b-237f-4a81-ab60-029c7281fa2d\">\n",
              "    <div class=\"colab-df-container\">\n",
              "      <div>\n",
              "<style scoped>\n",
              "    .dataframe tbody tr th:only-of-type {\n",
              "        vertical-align: middle;\n",
              "    }\n",
              "\n",
              "    .dataframe tbody tr th {\n",
              "        vertical-align: top;\n",
              "    }\n",
              "\n",
              "    .dataframe thead th {\n",
              "        text-align: right;\n",
              "    }\n",
              "</style>\n",
              "<table border=\"1\" class=\"dataframe\">\n",
              "  <thead>\n",
              "    <tr style=\"text-align: right;\">\n",
              "      <th></th>\n",
              "      <th>Invoice ID</th>\n",
              "      <th>Branch</th>\n",
              "      <th>City</th>\n",
              "      <th>Customer type</th>\n",
              "      <th>Gender</th>\n",
              "      <th>Product line</th>\n",
              "      <th>Unit price</th>\n",
              "      <th>Quantity</th>\n",
              "      <th>Tax 5%</th>\n",
              "      <th>Total</th>\n",
              "      <th>Date</th>\n",
              "      <th>Time</th>\n",
              "      <th>Payment</th>\n",
              "      <th>cogs</th>\n",
              "      <th>gross margin percentage</th>\n",
              "      <th>gross income</th>\n",
              "      <th>Rating</th>\n",
              "    </tr>\n",
              "  </thead>\n",
              "  <tbody>\n",
              "    <tr>\n",
              "      <th>0</th>\n",
              "      <td>750-67-8428</td>\n",
              "      <td>A</td>\n",
              "      <td>Yangon</td>\n",
              "      <td>Member</td>\n",
              "      <td>Female</td>\n",
              "      <td>Health and beauty</td>\n",
              "      <td>74.69</td>\n",
              "      <td>7</td>\n",
              "      <td>26.1415</td>\n",
              "      <td>548.9715</td>\n",
              "      <td>1/5/2019</td>\n",
              "      <td>13:08</td>\n",
              "      <td>Ewallet</td>\n",
              "      <td>522.83</td>\n",
              "      <td>4.761905</td>\n",
              "      <td>26.1415</td>\n",
              "      <td>9.1</td>\n",
              "    </tr>\n",
              "    <tr>\n",
              "      <th>1</th>\n",
              "      <td>226-31-3081</td>\n",
              "      <td>C</td>\n",
              "      <td>Naypyitaw</td>\n",
              "      <td>Normal</td>\n",
              "      <td>Female</td>\n",
              "      <td>Electronic accessories</td>\n",
              "      <td>15.28</td>\n",
              "      <td>5</td>\n",
              "      <td>3.8200</td>\n",
              "      <td>80.2200</td>\n",
              "      <td>3/8/2019</td>\n",
              "      <td>10:29</td>\n",
              "      <td>Cash</td>\n",
              "      <td>76.40</td>\n",
              "      <td>4.761905</td>\n",
              "      <td>3.8200</td>\n",
              "      <td>9.6</td>\n",
              "    </tr>\n",
              "    <tr>\n",
              "      <th>2</th>\n",
              "      <td>631-41-3108</td>\n",
              "      <td>A</td>\n",
              "      <td>Yangon</td>\n",
              "      <td>Normal</td>\n",
              "      <td>Male</td>\n",
              "      <td>Home and lifestyle</td>\n",
              "      <td>46.33</td>\n",
              "      <td>7</td>\n",
              "      <td>16.2155</td>\n",
              "      <td>340.5255</td>\n",
              "      <td>3/3/2019</td>\n",
              "      <td>13:23</td>\n",
              "      <td>Credit card</td>\n",
              "      <td>324.31</td>\n",
              "      <td>4.761905</td>\n",
              "      <td>16.2155</td>\n",
              "      <td>7.4</td>\n",
              "    </tr>\n",
              "    <tr>\n",
              "      <th>3</th>\n",
              "      <td>123-19-1176</td>\n",
              "      <td>A</td>\n",
              "      <td>Yangon</td>\n",
              "      <td>Member</td>\n",
              "      <td>Male</td>\n",
              "      <td>Health and beauty</td>\n",
              "      <td>58.22</td>\n",
              "      <td>8</td>\n",
              "      <td>23.2880</td>\n",
              "      <td>489.0480</td>\n",
              "      <td>1/27/2019</td>\n",
              "      <td>20:33</td>\n",
              "      <td>Ewallet</td>\n",
              "      <td>465.76</td>\n",
              "      <td>4.761905</td>\n",
              "      <td>23.2880</td>\n",
              "      <td>8.4</td>\n",
              "    </tr>\n",
              "    <tr>\n",
              "      <th>4</th>\n",
              "      <td>373-73-7910</td>\n",
              "      <td>A</td>\n",
              "      <td>Yangon</td>\n",
              "      <td>Normal</td>\n",
              "      <td>Male</td>\n",
              "      <td>Sports and travel</td>\n",
              "      <td>86.31</td>\n",
              "      <td>7</td>\n",
              "      <td>30.2085</td>\n",
              "      <td>634.3785</td>\n",
              "      <td>2/8/2019</td>\n",
              "      <td>10:37</td>\n",
              "      <td>Ewallet</td>\n",
              "      <td>604.17</td>\n",
              "      <td>4.761905</td>\n",
              "      <td>30.2085</td>\n",
              "      <td>5.3</td>\n",
              "    </tr>\n",
              "    <tr>\n",
              "      <th>...</th>\n",
              "      <td>...</td>\n",
              "      <td>...</td>\n",
              "      <td>...</td>\n",
              "      <td>...</td>\n",
              "      <td>...</td>\n",
              "      <td>...</td>\n",
              "      <td>...</td>\n",
              "      <td>...</td>\n",
              "      <td>...</td>\n",
              "      <td>...</td>\n",
              "      <td>...</td>\n",
              "      <td>...</td>\n",
              "      <td>...</td>\n",
              "      <td>...</td>\n",
              "      <td>...</td>\n",
              "      <td>...</td>\n",
              "      <td>...</td>\n",
              "    </tr>\n",
              "    <tr>\n",
              "      <th>995</th>\n",
              "      <td>233-67-5758</td>\n",
              "      <td>C</td>\n",
              "      <td>Naypyitaw</td>\n",
              "      <td>Normal</td>\n",
              "      <td>Male</td>\n",
              "      <td>Health and beauty</td>\n",
              "      <td>40.35</td>\n",
              "      <td>1</td>\n",
              "      <td>2.0175</td>\n",
              "      <td>42.3675</td>\n",
              "      <td>1/29/2019</td>\n",
              "      <td>13:46</td>\n",
              "      <td>Ewallet</td>\n",
              "      <td>40.35</td>\n",
              "      <td>4.761905</td>\n",
              "      <td>2.0175</td>\n",
              "      <td>6.2</td>\n",
              "    </tr>\n",
              "    <tr>\n",
              "      <th>996</th>\n",
              "      <td>303-96-2227</td>\n",
              "      <td>B</td>\n",
              "      <td>Mandalay</td>\n",
              "      <td>Normal</td>\n",
              "      <td>Female</td>\n",
              "      <td>Home and lifestyle</td>\n",
              "      <td>97.38</td>\n",
              "      <td>10</td>\n",
              "      <td>48.6900</td>\n",
              "      <td>1022.4900</td>\n",
              "      <td>3/2/2019</td>\n",
              "      <td>17:16</td>\n",
              "      <td>Ewallet</td>\n",
              "      <td>973.80</td>\n",
              "      <td>4.761905</td>\n",
              "      <td>48.6900</td>\n",
              "      <td>4.4</td>\n",
              "    </tr>\n",
              "    <tr>\n",
              "      <th>997</th>\n",
              "      <td>727-02-1313</td>\n",
              "      <td>A</td>\n",
              "      <td>Yangon</td>\n",
              "      <td>Member</td>\n",
              "      <td>Male</td>\n",
              "      <td>Food and beverages</td>\n",
              "      <td>31.84</td>\n",
              "      <td>1</td>\n",
              "      <td>1.5920</td>\n",
              "      <td>33.4320</td>\n",
              "      <td>2/9/2019</td>\n",
              "      <td>13:22</td>\n",
              "      <td>Cash</td>\n",
              "      <td>31.84</td>\n",
              "      <td>4.761905</td>\n",
              "      <td>1.5920</td>\n",
              "      <td>7.7</td>\n",
              "    </tr>\n",
              "    <tr>\n",
              "      <th>998</th>\n",
              "      <td>347-56-2442</td>\n",
              "      <td>A</td>\n",
              "      <td>Yangon</td>\n",
              "      <td>Normal</td>\n",
              "      <td>Male</td>\n",
              "      <td>Home and lifestyle</td>\n",
              "      <td>65.82</td>\n",
              "      <td>1</td>\n",
              "      <td>3.2910</td>\n",
              "      <td>69.1110</td>\n",
              "      <td>2/22/2019</td>\n",
              "      <td>15:33</td>\n",
              "      <td>Cash</td>\n",
              "      <td>65.82</td>\n",
              "      <td>4.761905</td>\n",
              "      <td>3.2910</td>\n",
              "      <td>4.1</td>\n",
              "    </tr>\n",
              "    <tr>\n",
              "      <th>999</th>\n",
              "      <td>849-09-3807</td>\n",
              "      <td>A</td>\n",
              "      <td>Yangon</td>\n",
              "      <td>Member</td>\n",
              "      <td>Female</td>\n",
              "      <td>Fashion accessories</td>\n",
              "      <td>88.34</td>\n",
              "      <td>7</td>\n",
              "      <td>30.9190</td>\n",
              "      <td>649.2990</td>\n",
              "      <td>2/18/2019</td>\n",
              "      <td>13:28</td>\n",
              "      <td>Cash</td>\n",
              "      <td>618.38</td>\n",
              "      <td>4.761905</td>\n",
              "      <td>30.9190</td>\n",
              "      <td>6.6</td>\n",
              "    </tr>\n",
              "  </tbody>\n",
              "</table>\n",
              "<p>1000 rows × 17 columns</p>\n",
              "</div>\n",
              "      <button class=\"colab-df-convert\" onclick=\"convertToInteractive('df-4242fa3b-237f-4a81-ab60-029c7281fa2d')\"\n",
              "              title=\"Convert this dataframe to an interactive table.\"\n",
              "              style=\"display:none;\">\n",
              "        \n",
              "  <svg xmlns=\"http://www.w3.org/2000/svg\" height=\"24px\"viewBox=\"0 0 24 24\"\n",
              "       width=\"24px\">\n",
              "    <path d=\"M0 0h24v24H0V0z\" fill=\"none\"/>\n",
              "    <path d=\"M18.56 5.44l.94 2.06.94-2.06 2.06-.94-2.06-.94-.94-2.06-.94 2.06-2.06.94zm-11 1L8.5 8.5l.94-2.06 2.06-.94-2.06-.94L8.5 2.5l-.94 2.06-2.06.94zm10 10l.94 2.06.94-2.06 2.06-.94-2.06-.94-.94-2.06-.94 2.06-2.06.94z\"/><path d=\"M17.41 7.96l-1.37-1.37c-.4-.4-.92-.59-1.43-.59-.52 0-1.04.2-1.43.59L10.3 9.45l-7.72 7.72c-.78.78-.78 2.05 0 2.83L4 21.41c.39.39.9.59 1.41.59.51 0 1.02-.2 1.41-.59l7.78-7.78 2.81-2.81c.8-.78.8-2.07 0-2.86zM5.41 20L4 18.59l7.72-7.72 1.47 1.35L5.41 20z\"/>\n",
              "  </svg>\n",
              "      </button>\n",
              "      \n",
              "  <style>\n",
              "    .colab-df-container {\n",
              "      display:flex;\n",
              "      flex-wrap:wrap;\n",
              "      gap: 12px;\n",
              "    }\n",
              "\n",
              "    .colab-df-convert {\n",
              "      background-color: #E8F0FE;\n",
              "      border: none;\n",
              "      border-radius: 50%;\n",
              "      cursor: pointer;\n",
              "      display: none;\n",
              "      fill: #1967D2;\n",
              "      height: 32px;\n",
              "      padding: 0 0 0 0;\n",
              "      width: 32px;\n",
              "    }\n",
              "\n",
              "    .colab-df-convert:hover {\n",
              "      background-color: #E2EBFA;\n",
              "      box-shadow: 0px 1px 2px rgba(60, 64, 67, 0.3), 0px 1px 3px 1px rgba(60, 64, 67, 0.15);\n",
              "      fill: #174EA6;\n",
              "    }\n",
              "\n",
              "    [theme=dark] .colab-df-convert {\n",
              "      background-color: #3B4455;\n",
              "      fill: #D2E3FC;\n",
              "    }\n",
              "\n",
              "    [theme=dark] .colab-df-convert:hover {\n",
              "      background-color: #434B5C;\n",
              "      box-shadow: 0px 1px 3px 1px rgba(0, 0, 0, 0.15);\n",
              "      filter: drop-shadow(0px 1px 2px rgba(0, 0, 0, 0.3));\n",
              "      fill: #FFFFFF;\n",
              "    }\n",
              "  </style>\n",
              "\n",
              "      <script>\n",
              "        const buttonEl =\n",
              "          document.querySelector('#df-4242fa3b-237f-4a81-ab60-029c7281fa2d button.colab-df-convert');\n",
              "        buttonEl.style.display =\n",
              "          google.colab.kernel.accessAllowed ? 'block' : 'none';\n",
              "\n",
              "        async function convertToInteractive(key) {\n",
              "          const element = document.querySelector('#df-4242fa3b-237f-4a81-ab60-029c7281fa2d');\n",
              "          const dataTable =\n",
              "            await google.colab.kernel.invokeFunction('convertToInteractive',\n",
              "                                                     [key], {});\n",
              "          if (!dataTable) return;\n",
              "\n",
              "          const docLinkHtml = 'Like what you see? Visit the ' +\n",
              "            '<a target=\"_blank\" href=https://colab.research.google.com/notebooks/data_table.ipynb>data table notebook</a>'\n",
              "            + ' to learn more about interactive tables.';\n",
              "          element.innerHTML = '';\n",
              "          dataTable['output_type'] = 'display_data';\n",
              "          await google.colab.output.renderOutput(dataTable, element);\n",
              "          const docLink = document.createElement('div');\n",
              "          docLink.innerHTML = docLinkHtml;\n",
              "          element.appendChild(docLink);\n",
              "        }\n",
              "      </script>\n",
              "    </div>\n",
              "  </div>\n",
              "  "
            ]
          },
          "metadata": {},
          "execution_count": 7
        }
      ],
      "source": [
        "#loading the dataset\n",
        "\n",
        "df = pd.read_csv(\"supermarket_sales - Sheet1.csv\")\n",
        "df"
      ]
    },
    {
      "cell_type": "code",
      "execution_count": 8,
      "metadata": {
        "colab": {
          "base_uri": "https://localhost:8080/"
        },
        "id": "EJnxxqN5MaEW",
        "outputId": "ede9961e-42c3-4baf-e1ae-919d7e56d0a6"
      },
      "outputs": [
        {
          "output_type": "execute_result",
          "data": {
            "text/plain": [
              "(1000, 17)"
            ]
          },
          "metadata": {},
          "execution_count": 8
        }
      ],
      "source": [
        "# How many rows and columns the dataset have.\n",
        "df.shape"
      ]
    },
    {
      "cell_type": "markdown",
      "metadata": {
        "id": "Wocg1NMJ_uw4"
      },
      "source": [
        "The questions that i will answer here to get insights:\n",
        "\n",
        "1)what is the gross income of the product line/type that have the lowest rating?\n",
        "\n",
        "2)which city/branch make the most earnings?\n",
        "\n",
        "3)which gender give the worst ratings? and what do they buy the most?\n",
        "\n",
        "4)Do members spends more than normal customers? how much more? and are their rating better than the rating of normal customers?\n",
        "\n",
        "5)in which city does consumers give higher ratings?\n",
        "\n",
        "6) what are the COGS of each product line? and are the product lines with higher costs also have higher profits? and what are the quantities that product line sell?\n",
        "\n",
        "7)Are there any specific times in the day, where sales are more or less than usual?"
      ]
    },
    {
      "cell_type": "markdown",
      "source": [
        "Data preprocessing"
      ],
      "metadata": {
        "id": "_46Et61S1KrO"
      }
    },
    {
      "cell_type": "code",
      "execution_count": 9,
      "metadata": {
        "colab": {
          "base_uri": "https://localhost:8080/"
        },
        "id": "MKuVLo1DlPHX",
        "outputId": "59f039a1-703a-48be-af68-48bc5948292f"
      },
      "outputs": [
        {
          "output_type": "stream",
          "name": "stdout",
          "text": [
            "(1000, 15)\n"
          ]
        }
      ],
      "source": [
        "#Here i will delete the payment method and invoice id columns, as there no need for them to answer the busieness questions\n",
        "df = df.drop(['Payment', 'Invoice ID'], axis=1)\n",
        "#And i will check if they were actually removed.\n",
        "print(df.shape)"
      ]
    },
    {
      "cell_type": "code",
      "source": [
        "# Here i will check if any missing values exist in the dataset\n",
        "None_values = df.isnull().sum()\n",
        "None_values"
      ],
      "metadata": {
        "colab": {
          "base_uri": "https://localhost:8080/"
        },
        "id": "YIlE3XWE1Y1o",
        "outputId": "3b66f1a0-d4f8-4b45-a0b8-7bc8443e4e36"
      },
      "execution_count": 10,
      "outputs": [
        {
          "output_type": "execute_result",
          "data": {
            "text/plain": [
              "Branch                     0\n",
              "City                       0\n",
              "Customer type              0\n",
              "Gender                     0\n",
              "Product line               0\n",
              "Unit price                 0\n",
              "Quantity                   0\n",
              "Tax 5%                     0\n",
              "Total                      0\n",
              "Date                       0\n",
              "Time                       0\n",
              "cogs                       0\n",
              "gross margin percentage    0\n",
              "gross income               0\n",
              "Rating                     0\n",
              "dtype: int64"
            ]
          },
          "metadata": {},
          "execution_count": 10
        }
      ]
    },
    {
      "cell_type": "markdown",
      "metadata": {
        "id": "H4y9BnmOuFc7"
      },
      "source": [
        "Lookin in data types and check for weird values in columns"
      ]
    },
    {
      "cell_type": "code",
      "execution_count": 11,
      "metadata": {
        "colab": {
          "base_uri": "https://localhost:8080/"
        },
        "id": "LWGdfyxAn7b8",
        "outputId": "c7519f79-8bd5-47e1-d3d8-2f5d0ec93e3a"
      },
      "outputs": [
        {
          "output_type": "execute_result",
          "data": {
            "text/plain": [
              "Branch                      object\n",
              "City                        object\n",
              "Customer type               object\n",
              "Gender                      object\n",
              "Product line                object\n",
              "Unit price                 float64\n",
              "Quantity                     int64\n",
              "Tax 5%                     float64\n",
              "Total                      float64\n",
              "Date                        object\n",
              "Time                        object\n",
              "cogs                       float64\n",
              "gross margin percentage    float64\n",
              "gross income               float64\n",
              "Rating                     float64\n",
              "dtype: object"
            ]
          },
          "metadata": {},
          "execution_count": 11
        }
      ],
      "source": [
        "# here i will check for the type of the data in each column\n",
        "# as it can help me after some codes later\n",
        "df.dtypes"
      ]
    },
    {
      "cell_type": "code",
      "execution_count": 12,
      "metadata": {
        "colab": {
          "base_uri": "https://localhost:8080/"
        },
        "id": "IFHSiunVxKYO",
        "outputId": "1cfac139-fd32-4f4d-8ad5-04a3180549bf"
      },
      "outputs": [
        {
          "output_type": "execute_result",
          "data": {
            "text/plain": [
              "A    340\n",
              "B    332\n",
              "C    328\n",
              "Name: Branch, dtype: int64"
            ]
          },
          "metadata": {},
          "execution_count": 12
        }
      ],
      "source": [
        "# Here i will count the frequency of the values in the columns that i will use to answer the business questions\n",
        "# it's possible to find cells with wrong/weird/not suitable data in a column this way\n",
        "df[\"Branch\"].value_counts()"
      ]
    },
    {
      "cell_type": "code",
      "execution_count": 13,
      "metadata": {
        "colab": {
          "base_uri": "https://localhost:8080/"
        },
        "id": "VNdbrN1GKD30",
        "outputId": "6619989f-796c-45c0-f148-173e3a6d85ac"
      },
      "outputs": [
        {
          "output_type": "execute_result",
          "data": {
            "text/plain": [
              "Yangon       340\n",
              "Mandalay     332\n",
              "Naypyitaw    328\n",
              "Name: City, dtype: int64"
            ]
          },
          "metadata": {},
          "execution_count": 13
        }
      ],
      "source": [
        "df[\"City\"].value_counts()"
      ]
    },
    {
      "cell_type": "code",
      "execution_count": 14,
      "metadata": {
        "colab": {
          "base_uri": "https://localhost:8080/"
        },
        "id": "YKzZThfgKYH0",
        "outputId": "362aa381-690c-4cb1-f8ba-62b52aa6ecda"
      },
      "outputs": [
        {
          "output_type": "execute_result",
          "data": {
            "text/plain": [
              "City       Branch\n",
              "Yangon     A         340\n",
              "Mandalay   B         332\n",
              "Naypyitaw  C         328\n",
              "dtype: int64"
            ]
          },
          "metadata": {},
          "execution_count": 14
        }
      ],
      "source": [
        "# Here i see that City and Branch data have similiar counts\n",
        "# but to make sure it's the same thing, i will write this code\n",
        "# if every branch have similar count with a city, then we can only use one of them in later codes\n",
        "df.value_counts([\"City\", \"Branch\"])"
      ]
    },
    {
      "cell_type": "code",
      "execution_count": 15,
      "metadata": {
        "colab": {
          "base_uri": "https://localhost:8080/"
        },
        "id": "cqexB4oPKcfg",
        "outputId": "2eed52d2-deac-4251-9d2e-697e64a31b58"
      },
      "outputs": [
        {
          "output_type": "execute_result",
          "data": {
            "text/plain": [
              "Member    501\n",
              "Normal    499\n",
              "Name: Customer type, dtype: int64"
            ]
          },
          "metadata": {},
          "execution_count": 15
        }
      ],
      "source": [
        "df[\"Customer type\"].value_counts()"
      ]
    },
    {
      "cell_type": "code",
      "execution_count": 16,
      "metadata": {
        "colab": {
          "base_uri": "https://localhost:8080/"
        },
        "id": "LzaLL9r7KjTB",
        "outputId": "1d7438c6-5155-4dc5-c2b0-94244ca8c39c"
      },
      "outputs": [
        {
          "output_type": "execute_result",
          "data": {
            "text/plain": [
              "Female    501\n",
              "Male      499\n",
              "Name: Gender, dtype: int64"
            ]
          },
          "metadata": {},
          "execution_count": 16
        }
      ],
      "source": [
        "df[\"Gender\"].value_counts()"
      ]
    },
    {
      "cell_type": "code",
      "source": [
        "# here i see that the number of males are the same as number of customers who are normal\n",
        "# and number of females are the same as number of customers who are member\n",
        "# with a quick look at the dataset and the columns i can see that it's a concidence\n",
        "# but to make sure, i will write this code to see that not all females are members\n",
        "# and not all males are normal customer\n",
        "df.value_counts([\"Gender\", \"Customer type\"])"
      ],
      "metadata": {
        "colab": {
          "base_uri": "https://localhost:8080/"
        },
        "id": "RUJaCWyi23b0",
        "outputId": "14346f93-6734-4cc8-d07c-302e520512a9"
      },
      "execution_count": 17,
      "outputs": [
        {
          "output_type": "execute_result",
          "data": {
            "text/plain": [
              "Gender  Customer type\n",
              "Female  Member           261\n",
              "Male    Normal           259\n",
              "Female  Normal           240\n",
              "Male    Member           240\n",
              "dtype: int64"
            ]
          },
          "metadata": {},
          "execution_count": 17
        }
      ]
    },
    {
      "cell_type": "code",
      "execution_count": 18,
      "metadata": {
        "colab": {
          "base_uri": "https://localhost:8080/"
        },
        "id": "Xc3UllTbKnGx",
        "outputId": "431d2ae2-0989-4f02-cf34-d64281af4bef"
      },
      "outputs": [
        {
          "output_type": "execute_result",
          "data": {
            "text/plain": [
              "Fashion accessories       178\n",
              "Food and beverages        174\n",
              "Electronic accessories    170\n",
              "Sports and travel         166\n",
              "Home and lifestyle        160\n",
              "Health and beauty         152\n",
              "Name: Product line, dtype: int64"
            ]
          },
          "metadata": {},
          "execution_count": 18
        }
      ],
      "source": [
        "df[\"Product line\"].value_counts()"
      ]
    },
    {
      "cell_type": "code",
      "execution_count": 20,
      "metadata": {
        "colab": {
          "base_uri": "https://localhost:8080/"
        },
        "id": "tnob5elvKyXI",
        "outputId": "7d4f0fbb-58d2-4370-a543-a88604afc929"
      },
      "outputs": [
        {
          "output_type": "execute_result",
          "data": {
            "text/plain": [
              "10    119\n",
              "1     112\n",
              "4     109\n",
              "7     102\n",
              "5     102\n",
              "6      98\n",
              "9      92\n",
              "2      91\n",
              "3      90\n",
              "8      85\n",
              "Name: Quantity, dtype: int64"
            ]
          },
          "metadata": {},
          "execution_count": 20
        }
      ],
      "source": [
        "df[\"Quantity\"].value_counts()"
      ]
    },
    {
      "cell_type": "code",
      "source": [
        "df[\"cogs\"].value_counts()"
      ],
      "metadata": {
        "colab": {
          "base_uri": "https://localhost:8080/"
        },
        "id": "PnfyTvge7eJr",
        "outputId": "8fa11642-707d-48aa-931f-02def0b9344e"
      },
      "execution_count": 21,
      "outputs": [
        {
          "output_type": "execute_result",
          "data": {
            "text/plain": [
              "206.52    2\n",
              "89.28     2\n",
              "83.08     2\n",
              "180.09    2\n",
              "448.56    2\n",
              "         ..\n",
              "144.27    1\n",
              "391.79    1\n",
              "538.30    1\n",
              "485.15    1\n",
              "618.38    1\n",
              "Name: cogs, Length: 990, dtype: int64"
            ]
          },
          "metadata": {},
          "execution_count": 21
        }
      ]
    },
    {
      "cell_type": "code",
      "source": [
        "# since i couldn't see the exact count of each value in cogs column\n",
        "# Here i will see if there is no non numeric data in the cogs column\n",
        "# i used a code that will count the float data and then give the sum of all the counts\n",
        "cogsfloat = df[\"gross income\"].loc[df[\"gross income\"].apply(lambda x: isinstance(x, float))].value_counts()\n",
        "cogsfloat_count = cogsfloat.sum()\n",
        "\n",
        "print(cogsfloat_count)\n",
        "# number of the rows is 1000, so if the result is 1000, then that means all cells are float"
      ],
      "metadata": {
        "colab": {
          "base_uri": "https://localhost:8080/"
        },
        "id": "E9pokJ-O7hVS",
        "outputId": "a6603633-5a0e-497e-d87e-8476056105b7"
      },
      "execution_count": 22,
      "outputs": [
        {
          "output_type": "stream",
          "name": "stdout",
          "text": [
            "1000\n"
          ]
        }
      ]
    },
    {
      "cell_type": "code",
      "source": [
        "df[\"gross income\"].value_counts()"
      ],
      "metadata": {
        "colab": {
          "base_uri": "https://localhost:8080/"
        },
        "id": "e2NhLYAJ7l8h",
        "outputId": "2c8ee089-6cd9-47d0-c4f0-61f85323f017"
      },
      "execution_count": 23,
      "outputs": [
        {
          "output_type": "execute_result",
          "data": {
            "text/plain": [
              "10.3260    2\n",
              "4.4640     2\n",
              "4.1540     2\n",
              "9.0045     2\n",
              "22.4280    2\n",
              "          ..\n",
              "7.2135     1\n",
              "19.5895    1\n",
              "26.9150    1\n",
              "24.2575    1\n",
              "30.9190    1\n",
              "Name: gross income, Length: 990, dtype: int64"
            ]
          },
          "metadata": {},
          "execution_count": 23
        }
      ]
    },
    {
      "cell_type": "code",
      "source": [
        "# since i couldn't see the exact count of each value in gross income column\n",
        "# Here i will see if there is no non numeric data in the gross income column\n",
        "# i used a code that will count the float data and then give the sum of all the counts\n",
        "grossincomefloat = df[\"gross income\"].loc[df[\"gross income\"].apply(lambda x: isinstance(x, float))].value_counts()\n",
        "grossincomefloat_count = grossincomefloat.sum()\n",
        "\n",
        "print(grossincomefloat_count)\n",
        "# number of the rows is 1000, so if the result is 1000, then that means all cells are float"
      ],
      "metadata": {
        "colab": {
          "base_uri": "https://localhost:8080/"
        },
        "id": "HhxcAcWA7qew",
        "outputId": "1d38c32f-7ae7-4452-cf15-b95247b6c069"
      },
      "execution_count": 24,
      "outputs": [
        {
          "output_type": "stream",
          "name": "stdout",
          "text": [
            "1000\n"
          ]
        }
      ]
    },
    {
      "cell_type": "code",
      "source": [
        "df[\"Rating\"].value_counts()"
      ],
      "metadata": {
        "colab": {
          "base_uri": "https://localhost:8080/"
        },
        "id": "BriF0AU17uYP",
        "outputId": "62be618f-623a-40be-b066-fcbc44e7c05b"
      },
      "execution_count": 25,
      "outputs": [
        {
          "output_type": "execute_result",
          "data": {
            "text/plain": [
              "6.0     26\n",
              "6.6     24\n",
              "4.2     22\n",
              "9.5     22\n",
              "6.5     21\n",
              "        ..\n",
              "4.0     11\n",
              "5.3     11\n",
              "8.3     11\n",
              "4.6      8\n",
              "10.0     5\n",
              "Name: Rating, Length: 61, dtype: int64"
            ]
          },
          "metadata": {},
          "execution_count": 25
        }
      ]
    },
    {
      "cell_type": "code",
      "source": [
        "# since i couldn't see the exact count of each value in Rating column\n",
        "# Here i will see if there is no non numeric data in the Ratinge column\n",
        "# i used a code that will count the float data and then give the sum of all the counts\n",
        "ratingfloat = df[\"Rating\"].loc[df[\"Rating\"].apply(lambda x: isinstance(x, float))].value_counts()\n",
        "ratingfloat_count = ratingfloat.sum()\n",
        "\n",
        "print(ratingfloat_count)\n",
        "# like previous code, number of the rows is 1000, so if the result is 1000, then that means all cells are float"
      ],
      "metadata": {
        "colab": {
          "base_uri": "https://localhost:8080/"
        },
        "id": "pwXmpb_i7xhR",
        "outputId": "630b189c-c203-4bf1-a956-6ef5e0c062b7"
      },
      "execution_count": 26,
      "outputs": [
        {
          "output_type": "stream",
          "name": "stdout",
          "text": [
            "1000\n"
          ]
        }
      ]
    },
    {
      "cell_type": "code",
      "execution_count": 42,
      "metadata": {
        "colab": {
          "base_uri": "https://localhost:8080/"
        },
        "id": "zUiTQI3mLNOD",
        "outputId": "fbe8a7b8-882e-4ea9-d9cd-2b51f48c79c8"
      },
      "outputs": [
        {
          "output_type": "execute_result",
          "data": {
            "text/plain": [
              "19:48    7\n",
              "14:42    7\n",
              "17:38    6\n",
              "17:16    5\n",
              "11:40    5\n",
              "        ..\n",
              "13:26    1\n",
              "11:17    1\n",
              "14:57    1\n",
              "17:53    1\n",
              "19:12    1\n",
              "Name: Time, Length: 506, dtype: int64"
            ]
          },
          "metadata": {},
          "execution_count": 42
        }
      ],
      "source": [
        "df[\"Time\"].value_counts()"
      ]
    },
    {
      "cell_type": "code",
      "source": [
        "# since i couldn't see the exact count of each value in Time column\n",
        "# Here i will see if there is no time data in it\n",
        "# first i will convert the data in the time column to time data\n",
        "df['Time'] = pd.to_datetime(df['Time'])"
      ],
      "metadata": {
        "id": "bv0fNKb6CzTT"
      },
      "execution_count": 43,
      "outputs": []
    },
    {
      "cell_type": "code",
      "source": [
        "# here i will check if the tyoe of time column time changed\n",
        "df.dtypes"
      ],
      "metadata": {
        "colab": {
          "base_uri": "https://localhost:8080/"
        },
        "id": "grnFhBuxD30k",
        "outputId": "cdc172d8-aa52-4bd3-ce1d-42d0135b2ca5"
      },
      "execution_count": 45,
      "outputs": [
        {
          "output_type": "execute_result",
          "data": {
            "text/plain": [
              "Branch                             object\n",
              "City                               object\n",
              "Customer type                      object\n",
              "Gender                             object\n",
              "Product line                       object\n",
              "Unit price                        float64\n",
              "Quantity                            int64\n",
              "Tax 5%                            float64\n",
              "Total                             float64\n",
              "Date                               object\n",
              "Time                       datetime64[ns]\n",
              "cogs                              float64\n",
              "gross margin percentage           float64\n",
              "gross income                      float64\n",
              "Rating                            float64\n",
              "dtype: object"
            ]
          },
          "metadata": {},
          "execution_count": 45
        }
      ]
    },
    {
      "cell_type": "code",
      "source": [
        "# Here i will see if there is non no time data in it\n",
        "# i used a code that will count the Time data and then give the sum of all the counts\n",
        "Timedata = df[\"Time\"].loc[df[\"Time\"].apply(lambda x: isinstance(x, pd.Timestamp))].value_counts()\n",
        "Timedata_count = Timedata.sum()\n",
        "\n",
        "print(Timedata_count)\n",
        "# like previous code, number of the rows is 1000, so if the result is 1000, then that means all cells are time type data"
      ],
      "metadata": {
        "colab": {
          "base_uri": "https://localhost:8080/"
        },
        "id": "KgBMEuxiEFNj",
        "outputId": "b9b37b45-6747-49e3-9363-3fe994f3b21f"
      },
      "execution_count": 46,
      "outputs": [
        {
          "output_type": "stream",
          "name": "stdout",
          "text": [
            "1000\n"
          ]
        }
      ]
    },
    {
      "cell_type": "markdown",
      "metadata": {
        "id": "AKXWHn50yNAw"
      },
      "source": [
        "Answering the quesitons"
      ]
    },
    {
      "cell_type": "markdown",
      "metadata": {
        "id": "oFLv1m-y5dfK"
      },
      "source": [
        "First question: what is the gross income of the product line/type that have the lowest rating?"
      ]
    },
    {
      "cell_type": "code",
      "execution_count": 27,
      "metadata": {
        "colab": {
          "base_uri": "https://localhost:8080/"
        },
        "id": "zFfK73UmyPLB",
        "outputId": "2169e435-4ac8-4346-b7a4-822589ba15fd"
      },
      "outputs": [
        {
          "output_type": "execute_result",
          "data": {
            "text/plain": [
              "Product line\n",
              "Home and lifestyle        6.837500\n",
              "Sports and travel         6.916265\n",
              "Electronic accessories    6.924706\n",
              "Health and beauty         7.003289\n",
              "Fashion accessories       7.029213\n",
              "Food and beverages        7.113218\n",
              "Name: Rating, dtype: float64"
            ]
          },
          "metadata": {},
          "execution_count": 27
        }
      ],
      "source": [
        "# here i will search for the average rating for each product line and sort the result\n",
        "Rate_product = df.groupby('Product line')['Rating'].mean()\n",
        "Rate_product_sort = Rate_product.sort_values()\n",
        "Rate_product_sort"
      ]
    },
    {
      "cell_type": "code",
      "execution_count": 28,
      "metadata": {
        "colab": {
          "base_uri": "https://localhost:8080/"
        },
        "id": "9U2nftSq4CsM",
        "outputId": "86b3d3a8-97f0-4a74-dcb3-4258f20f0e88"
      },
      "outputs": [
        {
          "output_type": "execute_result",
          "data": {
            "text/plain": [
              "Product line\n",
              "Fashion accessories       14.528062\n",
              "Electronic accessories    15.220597\n",
              "Food and beverages        15.365310\n",
              "Health and beauty         15.411572\n",
              "Sports and travel         15.812630\n",
              "Home and lifestyle        16.030331\n",
              "Name: gross income, dtype: float64"
            ]
          },
          "metadata": {},
          "execution_count": 28
        }
      ],
      "source": [
        "# here i search for the average gross income for each product line and then sort them\n",
        "productline_profit =df.groupby('Product line')['gross income'].mean()\n",
        "productline_profit_sort = productline_profit.sort_values()\n",
        "productline_profit_sort"
      ]
    },
    {
      "cell_type": "code",
      "source": [
        "# as we saw in the previous codes, the 2 product types that are rated the lowest, also have make the most profit on average\n",
        "#i will check the count for each product type\n",
        "df[\"Product line\"].value_counts()"
      ],
      "metadata": {
        "colab": {
          "base_uri": "https://localhost:8080/"
        },
        "id": "DQZn_yKj8i2-",
        "outputId": "9ddf1350-bff3-4273-ae8b-20ef58e2be0b"
      },
      "execution_count": 29,
      "outputs": [
        {
          "output_type": "execute_result",
          "data": {
            "text/plain": [
              "Fashion accessories       178\n",
              "Food and beverages        174\n",
              "Electronic accessories    170\n",
              "Sports and travel         166\n",
              "Home and lifestyle        160\n",
              "Health and beauty         152\n",
              "Name: Product line, dtype: int64"
            ]
          },
          "metadata": {},
          "execution_count": 29
        }
      ]
    },
    {
      "cell_type": "markdown",
      "source": [
        "Question 1 Result:\n",
        "\n",
        "As we can see from the result of the previous codes, the lowest rated product lines also make more profit than other product lines, and they are not being bought the most or less.\n",
        "\n",
        "So selling the same sorts for customers will not cause any losses, but the supermarket should consider if there is any issues causing this lower rating."
      ],
      "metadata": {
        "id": "hVwaKoe-8q-D"
      }
    },
    {
      "cell_type": "markdown",
      "metadata": {
        "id": "4Dqx2-Nd7-p_"
      },
      "source": [
        "Second question:\n",
        "which city/branch make the most earnings?"
      ]
    },
    {
      "cell_type": "code",
      "execution_count": 30,
      "metadata": {
        "colab": {
          "base_uri": "https://localhost:8080/"
        },
        "id": "VYQSnaJS4SPQ",
        "outputId": "33ff4962-0fca-4f77-df85-ed31472cb77e"
      },
      "outputs": [
        {
          "output_type": "execute_result",
          "data": {
            "text/plain": [
              "City\n",
              "Yangon       14.874001\n",
              "Mandalay     15.232024\n",
              "Naypyitaw    16.052367\n",
              "Name: gross income, dtype: float64"
            ]
          },
          "metadata": {},
          "execution_count": 30
        }
      ],
      "source": [
        "# here i will group the city and gross income columns and get the average profit for each city\n",
        "Average_income_City = df.groupby('City')['gross income'].mean()\n",
        "Average_income_City_sort = Average_income_City.sort_values()\n",
        "Average_income_City_sort"
      ]
    },
    {
      "cell_type": "code",
      "source": [
        "# here i can also visualize the results\n",
        "import matplotlib.pyplot as plt\n",
        "df.boxplot(column=['gross income'], by='City')\n",
        "plt.show()"
      ],
      "metadata": {
        "colab": {
          "base_uri": "https://localhost:8080/",
          "height": 478
        },
        "id": "sVLioElf95F0",
        "outputId": "c9374c3e-1ecd-45ab-d247-23a0bb77b1d8"
      },
      "execution_count": 31,
      "outputs": [
        {
          "output_type": "display_data",
          "data": {
            "text/plain": [
              "<Figure size 640x480 with 1 Axes>"
            ],
            "image/png": "[encoded data removed]"
          },
          "metadata": {}
        }
      ]
    },
    {
      "cell_type": "markdown",
      "source": [
        "Question 2 results:\n",
        "the branch in City Yangon make the lowest profit, and branch in Naypyitaw make the most,to get more insights, we can in future data gatherinng include the costs the supermarkets inccured invesitng in each city and the population of each city to check for the reasons of why the cities have different profits "
      ],
      "metadata": {
        "id": "LxtMaDV2993K"
      }
    },
    {
      "cell_type": "markdown",
      "metadata": {
        "id": "LblwtyC396Bi"
      },
      "source": [
        "Question 3:which gender give the worst ratings? and what do they buy the most?"
      ]
    },
    {
      "cell_type": "code",
      "execution_count": 32,
      "metadata": {
        "colab": {
          "base_uri": "https://localhost:8080/"
        },
        "id": "vuHAvF41-3s4",
        "outputId": "656e7fc6-fbda-4d75-a663-b5734a2e564d"
      },
      "outputs": [
        {
          "output_type": "execute_result",
          "data": {
            "text/plain": [
              "Gender\n",
              "Female    6.964471\n",
              "Male      6.980962\n",
              "Name: Rating, dtype: float64"
            ]
          },
          "metadata": {},
          "execution_count": 32
        }
      ],
      "source": [
        "#here i will group the gender and rating columns and get the average rating for the genders\n",
        "gender_rating_mean = df.groupby('Gender')['Rating'].mean()\n",
        "gender_rating_mean_sort = gender_rating_mean.sort_values()\n",
        "gender_rating_mean_sort"
      ]
    },
    {
      "cell_type": "code",
      "source": [
        "#now i will check the type of products each buy and how much\n",
        "gender_boughtproducts_count = df.groupby('Gender')['Product line'].value_counts()\n",
        "gender_boughtproducts_count"
      ],
      "metadata": {
        "colab": {
          "base_uri": "https://localhost:8080/"
        },
        "id": "zlqyHfp8Ay_a",
        "outputId": "6014a06a-4414-484d-ea6e-7285237194d3"
      },
      "execution_count": 33,
      "outputs": [
        {
          "output_type": "execute_result",
          "data": {
            "text/plain": [
              "Gender  Product line          \n",
              "Female  Fashion accessories       96\n",
              "        Food and beverages        90\n",
              "        Sports and travel         88\n",
              "        Electronic accessories    84\n",
              "        Home and lifestyle        79\n",
              "        Health and beauty         64\n",
              "Male    Health and beauty         88\n",
              "        Electronic accessories    86\n",
              "        Food and beverages        84\n",
              "        Fashion accessories       82\n",
              "        Home and lifestyle        81\n",
              "        Sports and travel         78\n",
              "Name: Product line, dtype: int64"
            ]
          },
          "metadata": {},
          "execution_count": 33
        }
      ]
    },
    {
      "cell_type": "markdown",
      "source": [
        "Question 3 results:\n",
        "the female gender gives slightly worse ratings even when their most 2 purchased products are the ones that have higher general rating.\n",
        "\n",
        "the weaker rating might be because of reasones related to the shopping experience"
      ],
      "metadata": {
        "id": "A68ZyU4pA3Cm"
      }
    },
    {
      "cell_type": "markdown",
      "source": [
        "Question 4: Do members spends money more than normal customers? how much more? and are their rating better than the rating of normal customers?"
      ],
      "metadata": {
        "id": "xRiHrGZ_A4vZ"
      }
    },
    {
      "cell_type": "code",
      "source": [
        "# Here i will count the number of membership customers and normal ones\n",
        "memberscount = df[df['Customer type'] == 'Member'].count()[0]\n",
        "normalcustomerscount = df[df['Customer type'] == 'Normal'].count()[0]\n",
        "\n",
        "print(\"member customers:\", memberscount)\n",
        "print(\"normal customers:\", normalcustomerscount)"
      ],
      "metadata": {
        "colab": {
          "base_uri": "https://localhost:8080/"
        },
        "id": "w-6hIv37A8Xw",
        "outputId": "f1907735-fb00-431a-978d-0f386d621d45"
      },
      "execution_count": 34,
      "outputs": [
        {
          "output_type": "stream",
          "name": "stdout",
          "text": [
            "member customers: 501\n",
            "normal customers: 499\n"
          ]
        }
      ]
    },
    {
      "cell_type": "code",
      "source": [
        "# here i will look into the average profits that the supermaket reach for each customer type\n",
        "Avg_profit_members = df[df['Customer type'] == 'Member']['gross income'].mean()\n",
        "Avg_profit_normal = df[df['Customer type'] == 'Normal']['gross income'].mean()\n",
        "\n",
        "print(\"Average income from members:\", Avg_profit_members)\n",
        "print(\"Average income from normal customers:\", Avg_profit_normal)"
      ],
      "metadata": {
        "colab": {
          "base_uri": "https://localhost:8080/"
        },
        "id": "2BCUYps9A-Ey",
        "outputId": "b4ea3a5b-8ad5-4471-ac65-df1e88d56fe3"
      },
      "execution_count": 35,
      "outputs": [
        {
          "output_type": "stream",
          "name": "stdout",
          "text": [
            "Average income from members: 15.609109780439123\n",
            "Average income from normal customers: 15.148707414829659\n"
          ]
        }
      ]
    },
    {
      "cell_type": "code",
      "source": [
        "# here i can also visualize the results\n",
        "import matplotlib.pyplot as plt\n",
        "df.boxplot(column=['gross income'], by='Customer type')\n",
        "plt.show()"
      ],
      "metadata": {
        "colab": {
          "base_uri": "https://localhost:8080/",
          "height": 478
        },
        "id": "w5wvDkQKBBLX",
        "outputId": "97e45e70-ce06-4802-cd01-7683f01d160e"
      },
      "execution_count": 36,
      "outputs": [
        {
          "output_type": "display_data",
          "data": {
            "text/plain": [
              "<Figure size 640x480 with 1 Axes>"
            ],
            "image/png": "[encoded data removed]"
          },
          "metadata": {}
        }
      ]
    },
    {
      "cell_type": "code",
      "source": [
        "# here i will look into the average ratings that the supermaket get from each customer type\n",
        "rate_members = df[df['Customer type'] == 'Member']['Rating'].mean()\n",
        "rate_normal = df[df['Customer type'] == 'Normal']['Rating'].mean()\n",
        "\n",
        "print(\"Average rating of members:\", rate_members)\n",
        "print(\"Average rating of normal customers:\", rate_normal)"
      ],
      "metadata": {
        "colab": {
          "base_uri": "https://localhost:8080/"
        },
        "id": "OMWjQ8uPBHJ_",
        "outputId": "e384b4b0-c808-4c5b-afc2-50f87e855f63"
      },
      "execution_count": 37,
      "outputs": [
        {
          "output_type": "stream",
          "name": "stdout",
          "text": [
            "Average rating of members: 6.940319361277445\n",
            "Average rating of normal customers: 7.005210420841683\n"
          ]
        }
      ]
    },
    {
      "cell_type": "markdown",
      "source": [
        "Results of question 4:\n",
        "Here i saw the numbers of both types of customers are only different by 2, which isn't a number that have a siginificant effect on the results.\n",
        "\n",
        "i also saw that membership customers are contributing more to the gross income than regular customers but not by a lot.\n",
        "\n",
        "But the ratings they give is little bit weaker.\n",
        "\n",
        "the supermakets can check that the membership programs that it's offering to people are making them still loyal (they are contributing more to the gross income).\n",
        "\n",
        "since the average rating for both customer types  is almost similar, it could be assumed that it have nothing to do with the type of the cusotmers, but since members are the ones giving a little bit weaker rating, it could be because they think the offers they get for their membership aren't enough or maybe other supermarket chains are giving better offers."
      ],
      "metadata": {
        "id": "cmnkbH27BKAl"
      }
    },
    {
      "cell_type": "markdown",
      "source": [
        "Questions 5: in which branch/city does consumers give higher ratings?"
      ],
      "metadata": {
        "id": "KAEWPGc3BK0j"
      }
    },
    {
      "cell_type": "code",
      "source": [
        "#Here i will group each city with the average rating customers give for their shopping experience\n",
        "city_rating = df.groupby('City')['Rating'].mean()\n",
        "ratingbycity = city_rating.sort_values()\n",
        "ratingbycity"
      ],
      "metadata": {
        "colab": {
          "base_uri": "https://localhost:8080/"
        },
        "id": "bjQGjH_sBPNF",
        "outputId": "55b167a9-515e-4b26-ce3e-5ad952bb7ad3"
      },
      "execution_count": 38,
      "outputs": [
        {
          "output_type": "execute_result",
          "data": {
            "text/plain": [
              "City\n",
              "Mandalay     6.818072\n",
              "Yangon       7.027059\n",
              "Naypyitaw    7.072866\n",
              "Name: Rating, dtype: float64"
            ]
          },
          "metadata": {},
          "execution_count": 38
        }
      ]
    },
    {
      "cell_type": "markdown",
      "source": [
        "Question 5 results:\n",
        "\n",
        "branch in Mandalay was the middel in terms of earnings, Yangon was the worst, Naypyitaw was the best.\n",
        "\n",
        "maybe the branches in Yangon and Mandalay needs to invest more in custmer service."
      ],
      "metadata": {
        "id": "4FokyjejBRdK"
      }
    },
    {
      "cell_type": "markdown",
      "source": [
        "answering question number 6: what are the COGS of each product line? and are the product lines with higher costs also have higher profits? and what are the quantities that product line sell?"
      ],
      "metadata": {
        "id": "kdSNc1llBV29"
      }
    },
    {
      "cell_type": "code",
      "source": [
        "# i will search for the sum of the costs of good sold for each product type\n",
        "cogs_by_type = df.groupby('Product line')['cogs'].sum()\n",
        "cogs_by_type_sort = cogs_by_type.sort_values(ascending=False)\n",
        "\n",
        "print(cogs_by_type_sort)"
      ],
      "metadata": {
        "colab": {
          "base_uri": "https://localhost:8080/"
        },
        "id": "dOSZp_SABXsD",
        "outputId": "479a62fa-2d5b-4aaa-8c01-327f897dcaa1"
      },
      "execution_count": 39,
      "outputs": [
        {
          "output_type": "stream",
          "name": "stdout",
          "text": [
            "Product line\n",
            "Food and beverages        53471.28\n",
            "Sports and travel         52497.93\n",
            "Electronic accessories    51750.03\n",
            "Fashion accessories       51719.90\n",
            "Home and lifestyle        51297.06\n",
            "Health and beauty         46851.18\n",
            "Name: cogs, dtype: float64\n"
          ]
        }
      ]
    },
    {
      "cell_type": "code",
      "source": [
        "# I will search for the sum of income for each product type\n",
        "profit_type = df.groupby('Product line')['gross income'].sum()\n",
        "profit_type_sort = profit_type.sort_values(ascending=False)\n",
        "\n",
        "\n",
        "print(profit_type_sort)"
      ],
      "metadata": {
        "colab": {
          "base_uri": "https://localhost:8080/"
        },
        "id": "uBCqCDoEBaEi",
        "outputId": "8bf14ced-2913-414b-8589-7b953e755f4a"
      },
      "execution_count": 40,
      "outputs": [
        {
          "output_type": "stream",
          "name": "stdout",
          "text": [
            "Product line\n",
            "Food and beverages        2673.5640\n",
            "Sports and travel         2624.8965\n",
            "Electronic accessories    2587.5015\n",
            "Fashion accessories       2585.9950\n",
            "Home and lifestyle        2564.8530\n",
            "Health and beauty         2342.5590\n",
            "Name: gross income, dtype: float64\n"
          ]
        }
      ]
    },
    {
      "cell_type": "code",
      "source": [
        "# here i will get the sum of the quantities sold for each product type\n",
        "product_quantity = df.groupby('Product line')['Quantity'].sum()\n",
        "product_quantity_sort = product_quantity.sort_values(ascending=False)\n",
        "\n",
        "\n",
        "print(product_quantity_sort)"
      ],
      "metadata": {
        "colab": {
          "base_uri": "https://localhost:8080/"
        },
        "id": "rdXEX3AGBca1",
        "outputId": "936a8ee6-0203-42bf-cd92-7fe47379bcdc"
      },
      "execution_count": 41,
      "outputs": [
        {
          "output_type": "stream",
          "name": "stdout",
          "text": [
            "Product line\n",
            "Electronic accessories    971\n",
            "Food and beverages        952\n",
            "Sports and travel         920\n",
            "Home and lifestyle        911\n",
            "Fashion accessories       902\n",
            "Health and beauty         854\n",
            "Name: Quantity, dtype: int64\n"
          ]
        }
      ]
    },
    {
      "cell_type": "markdown",
      "source": [
        "Question 6 results: the supermarket keeps an equal gross percentage margin for all products.\n",
        "but looking into the questities sold for each product, and how they differ in ranking than both COGS and the gross margin, the supermarket managers can see which type of products may need a more advertisments to sell more."
      ],
      "metadata": {
        "id": "mQI6CVBQBfbM"
      }
    },
    {
      "cell_type": "markdown",
      "source": [
        "Question 7: Are there any specific times in the day, where sales are more or less than usual?"
      ],
      "metadata": {
        "id": "mvCglHzuBg9t"
      }
    },
    {
      "cell_type": "code",
      "source": [
        "# first i will see the average of the occurence of each hour in the time column\n",
        "# first i will group the hours in the time column\n",
        "# then group each hour with the average gross income in it\n",
        "df['Hour'] = df['Time'].dt.hour\n",
        "\n",
        "hourly_mean_rating = df.groupby('Hour')['gross income'].mean()\n",
        "\n",
        "hourlymeanrating = hourly_mean_rating.sort_values()\n",
        "hourlymeanrating"
      ],
      "metadata": {
        "colab": {
          "base_uri": "https://localhost:8080/"
        },
        "id": "CKkjJXyQCafl",
        "outputId": "a0c5414c-5f82-4bb2-f0b1-970f950fc9e5"
      },
      "execution_count": 47,
      "outputs": [
        {
          "output_type": "execute_result",
          "data": {
            "text/plain": [
              "Hour\n",
              "18    13.328387\n",
              "12    13.946433\n",
              "15    14.556260\n",
              "20    14.583827\n",
              "10    14.814465\n",
              "16    15.600695\n",
              "17    15.730514\n",
              "13    16.053272\n",
              "11    16.072661\n",
              "19    16.729673\n",
              "14    17.686976\n",
              "Name: gross income, dtype: float64"
            ]
          },
          "metadata": {},
          "execution_count": 47
        }
      ]
    },
    {
      "cell_type": "markdown",
      "source": [
        "Question 7 result explanation:\n",
        "\n",
        "from the result here, we can see which hours have more earnings, it was maybe expected to see 2:00 pm high.\n",
        "concerning the hours with less earnings, maybe the problem is the lack of products, which is something could fixed with working on the supply chain."
      ],
      "metadata": {
        "id": "j70JrVffHDqc"
      }
    },
    {
      "cell_type": "markdown",
      "source": [
        "Refrencing the dataset:\n",
        "\n",
        "Pyae, A. (2019) Supermarket sales, Kaggle. Available at: https://www.kaggle.com/datasets/aungpyaeap/supermarket-sales?select=supermarket_sales%2B-%2BSheet1.csv (Accessed: March 22, 2023)."
      ],
      "metadata": {
        "id": "RVfUyFaDJvx5"
      }
    }
  ],
  "metadata": {
    "colab": {
      "provenance": []
    },
    "kernelspec": {
      "display_name": "Python 3",
      "name": "python3"
    },
    "language_info": {
      "name": "python"
    }
  },
  "nbformat": 4,
  "nbformat_minor": 0
}